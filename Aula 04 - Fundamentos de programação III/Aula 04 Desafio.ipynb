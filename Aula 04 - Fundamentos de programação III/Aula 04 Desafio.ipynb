{
 "cells": [
  {
   "attachments": {},
   "cell_type": "markdown",
   "metadata": {},
   "source": [
    "# Fundamentos de programação III\n",
    "## Desafios obrigatórios\n"
   ]
  },
  {
   "cell_type": "code",
   "execution_count": 3,
   "metadata": {},
   "outputs": [],
   "source": [
    "#!pip install plyer \n",
    "from plyer import notification \n",
    "notification.notify(\n",
    "     title='Título da notificação',\n",
    "     message='Mensagem da notificação',\n",
    "     app_name='Nome do aplicativo',\n",
    "     timeout=10 )"
   ]
  },
  {
   "cell_type": "code",
   "execution_count": 10,
   "metadata": {},
   "outputs": [
    {
     "data": {
      "text/plain": [
       "'12/04/2023'"
      ]
     },
     "execution_count": 10,
     "metadata": {},
     "output_type": "execute_result"
    }
   ],
   "source": [
    "\n"
   ]
  },
  {
   "cell_type": "code",
   "execution_count": 9,
   "metadata": {},
   "outputs": [],
   "source": [
    "from plyer import notification \n",
    "from datetime import datetime\n",
    "def alerta(nivel, base, etapa):\n",
    "    '''\n",
    "        Alerta de falha de carregamento de base de dados\n",
    "    '''\n",
    "    now = str(datetime.now())\n",
    "\n",
    "    msg = f\"Falha no carregamento da base {base} na etapa {etapa}.\\n{now}\"\n",
    "\n",
    "\n",
    "    if nivel == 1:\n",
    "        title = 'ATENÇÃO: Alerta Baixo'\n",
    "    elif nivel == 2:\n",
    "        title = 'ATENÇÃO: Alerta Médio'\n",
    "    elif nivel  == 3:\n",
    "        title = 'ATENÇÃO: Alerta Alto'\n",
    "    else:\n",
    "        print(\"Nivel\",nivel,\"não disponível!\")\n",
    "\n",
    "    notification.notify(\n",
    "            title=title,\n",
    "            message=msg,\n",
    "            app_name='alerta',\n",
    "            timeout=10\n",
    "        )\n",
    "\n",
    "alerta(nivel = 2,\n",
    "        base = \"CLIENTES\", \n",
    "        etapa = \"EXTRACAO\")"
   ]
  },
  {
   "cell_type": "code",
   "execution_count": 7,
   "metadata": {},
   "outputs": [],
   "source": [
    "from plyer import notification \n",
    "from datetime import datetime\n",
    "\n",
    "def alerta(nivel, base, etapa):\n",
    "    '''\n",
    "        Alerta de falha de carregamento de base de dados\n",
    "    '''\n",
    "    now = str(datetime.now())\n",
    "\n",
    "    msg = f\"Falha no carregamento da base {base} na etapa {etapa}.\\n{now}\"\n",
    "\n",
    "\n",
    "    if nivel == 1:\n",
    "        title = 'ATENÇÃO: Alerta Baixo'\n",
    "    elif nivel == 2:\n",
    "        title = 'ATENÇÃO: Alerta Médio'\n",
    "    elif nivel  == 3:\n",
    "        title = 'ATENÇÃO: Alerta Alto'\n",
    "    else:\n",
    "        print(\"Nivel\",nivel,\"não disponível!\")\n",
    "\n",
    "    notification.notify(\n",
    "            title=title,\n",
    "            message=msg,\n",
    "            app_name='alerta',\n",
    "            timeout=10\n",
    "        )"
   ]
  },
  {
   "cell_type": "code",
   "execution_count": 8,
   "metadata": {},
   "outputs": [],
   "source": [
    "alerta(nivel = 3,\n",
    "        base = \"CLIENTES\", \n",
    "        etapa = \"PASSAGEM DO SAP\")"
   ]
  },
  {
   "cell_type": "code",
   "execution_count": null,
   "metadata": {},
   "outputs": [],
   "source": []
  }
 ],
 "metadata": {
  "kernelspec": {
   "display_name": "Python 3",
   "language": "python",
   "name": "python3"
  },
  "language_info": {
   "codemirror_mode": {
    "name": "ipython",
    "version": 3
   },
   "file_extension": ".py",
   "mimetype": "text/x-python",
   "name": "python",
   "nbconvert_exporter": "python",
   "pygments_lexer": "ipython3",
   "version": "3.12.3"
  },
  "orig_nbformat": 4
 },
 "nbformat": 4,
 "nbformat_minor": 2
}
