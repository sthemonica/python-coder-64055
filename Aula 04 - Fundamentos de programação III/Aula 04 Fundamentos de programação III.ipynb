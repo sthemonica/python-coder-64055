{
 "cells": [
  {
   "attachments": {},
   "cell_type": "markdown",
   "metadata": {},
   "source": [
    "# Fundamentos de programação III"
   ]
  },
  {
   "cell_type": "markdown",
   "metadata": {},
   "source": [
    "## Funções"
   ]
  },
  {
   "cell_type": "code",
   "execution_count": 7,
   "metadata": {},
   "outputs": [
    {
     "data": {
      "text/plain": [
       "20"
      ]
     },
     "execution_count": 7,
     "metadata": {},
     "output_type": "execute_result"
    }
   ],
   "source": [
    "def mul(a,b):\n",
    "    x = a*b\n",
    "    return x\n",
    "mul(4,5)"
   ]
  },
  {
   "cell_type": "code",
   "execution_count": 8,
   "metadata": {},
   "outputs": [
    {
     "name": "stdout",
     "output_type": "stream",
     "text": [
      "20\n",
      "-20\n",
      "40\n"
     ]
    }
   ],
   "source": [
    "print(mul(4,5))\n",
    "print(mul(-2,10))\n",
    "print(mul(4,mul(2,5)))"
   ]
  },
  {
   "cell_type": "code",
   "execution_count": 10,
   "metadata": {},
   "outputs": [
    {
     "name": "stdout",
     "output_type": "stream",
     "text": [
      "ola!!!\n",
      "ola!!!\n"
     ]
    }
   ],
   "source": [
    "def diga_ola():\n",
    "    print(\"ola!!!\")\n",
    "diga_ola()\n",
    "diga_ola()"
   ]
  },
  {
   "cell_type": "code",
   "execution_count": 12,
   "metadata": {},
   "outputs": [
    {
     "name": "stdout",
     "output_type": "stream",
     "text": [
      "(5, 3)\n",
      "(5, 3)\n"
     ]
    }
   ],
   "source": [
    "def ordena(a,b):\n",
    "    if a > b:\n",
    "        return a, b\n",
    "    return b, a\n",
    "\n",
    "print(ordena(5,3))\n",
    "print(ordena(3,5))"
   ]
  },
  {
   "cell_type": "code",
   "execution_count": 6,
   "metadata": {},
   "outputs": [
    {
     "name": "stdout",
     "output_type": "stream",
     "text": [
      "print A: 200\n",
      "print B: 200\n",
      "print C: 10\n",
      "print D: 3\n",
      "print E: 200\n"
     ]
    }
   ],
   "source": [
    "\n",
    "x = 200\n",
    "print(\"print A:\",x)\n",
    "\n",
    "def mostraX(x):\n",
    "    print(\"print C:\",x)\n",
    "    x = 3\n",
    "    print(\"print D:\",x)\n",
    "\n",
    "print(\"print B:\",x)\n",
    "mostraX(10)\n",
    "print(\"print E:\",x)"
   ]
  },
  {
   "cell_type": "code",
   "execution_count": 61,
   "metadata": {},
   "outputs": [
    {
     "name": "stdout",
     "output_type": "stream",
     "text": [
      "imposto de: 750.0\n",
      "imposto de: 500.0\n",
      "imposto de: 500.0\n"
     ]
    }
   ],
   "source": [
    "def calcular_imposto(salario, taxa=0.1):\n",
    "    imposto = salario * taxa\n",
    "    print(\"imposto de:\", imposto)\n",
    "\n",
    "calcular_imposto(5000, 0.15)\n",
    "calcular_imposto(5000, 0.1)\n",
    "calcular_imposto(5000)\n"
   ]
  },
  {
   "cell_type": "markdown",
   "metadata": {},
   "source": [
    "## Lamda"
   ]
  },
  {
   "cell_type": "code",
   "execution_count": 15,
   "metadata": {},
   "outputs": [
    {
     "data": {
      "text/plain": [
       "16"
      ]
     },
     "execution_count": 15,
     "metadata": {},
     "output_type": "execute_result"
    }
   ],
   "source": [
    "quadrado = lambda x: x ** 2\n",
    "quadrado(4)"
   ]
  },
  {
   "cell_type": "code",
   "execution_count": 24,
   "metadata": {},
   "outputs": [
    {
     "data": {
      "text/plain": [
       "True"
      ]
     },
     "execution_count": 24,
     "metadata": {},
     "output_type": "execute_result"
    }
   ],
   "source": [
    "eh_par = lambda x: (x % 2) == 0\n",
    "eh_par(4)"
   ]
  },
  {
   "cell_type": "markdown",
   "metadata": {},
   "source": [
    "## Map"
   ]
  },
  {
   "cell_type": "code",
   "execution_count": 27,
   "metadata": {},
   "outputs": [
    {
     "name": "stdout",
     "output_type": "stream",
     "text": [
      "[6, 4, 6]\n"
     ]
    }
   ],
   "source": [
    "frutas = ['Banana', 'Pera', 'Tomate']\n",
    "tamanhos = map(len, frutas)\n",
    "print(list(tamanhos))"
   ]
  },
  {
   "cell_type": "code",
   "execution_count": 35,
   "metadata": {},
   "outputs": [
    {
     "name": "stdout",
     "output_type": "stream",
     "text": [
      "[9, 16, 25]\n"
     ]
    }
   ],
   "source": [
    "lista_quadrados = list(map(quadrado, [3,4,5]))\n",
    "print(lista_quadrados)"
   ]
  },
  {
   "cell_type": "markdown",
   "metadata": {},
   "source": [
    "## Date/Time\n"
   ]
  },
  {
   "cell_type": "code",
   "execution_count": 37,
   "metadata": {},
   "outputs": [
    {
     "name": "stdout",
     "output_type": "stream",
     "text": [
      "2023-01-25\n"
     ]
    }
   ],
   "source": [
    "from datetime import date\n",
    "\n",
    "aniversario = date(2023, 1, 25)\n",
    "print(aniversario) "
   ]
  },
  {
   "cell_type": "code",
   "execution_count": 40,
   "metadata": {},
   "outputs": [
    {
     "data": {
      "text/plain": [
       "datetime.date(2023, 4, 12)"
      ]
     },
     "execution_count": 40,
     "metadata": {},
     "output_type": "execute_result"
    }
   ],
   "source": [
    "date.today()"
   ]
  },
  {
   "cell_type": "code",
   "execution_count": 58,
   "metadata": {},
   "outputs": [
    {
     "data": {
      "text/plain": [
       "'2023-04-12 23:43:30.593804'"
      ]
     },
     "execution_count": 58,
     "metadata": {},
     "output_type": "execute_result"
    }
   ],
   "source": [
    "from datetime import datetime\n",
    "str(datetime.now())"
   ]
  },
  {
   "cell_type": "code",
   "execution_count": 41,
   "metadata": {},
   "outputs": [
    {
     "name": "stdout",
     "output_type": "stream",
     "text": [
      "25/01/2023\n"
     ]
    }
   ],
   "source": [
    "aniversario = date(2023, 1, 25)\n",
    "formatado = aniversario.strftime(\"%d/%m/%Y\")\n",
    "print(formatado) "
   ]
  },
  {
   "cell_type": "code",
   "execution_count": 49,
   "metadata": {},
   "outputs": [
    {
     "data": {
      "text/plain": [
       "datetime.datetime(2023, 1, 25, 0, 0)"
      ]
     },
     "execution_count": 49,
     "metadata": {},
     "output_type": "execute_result"
    }
   ],
   "source": [
    "from datetime import datetime\n",
    "volta_aniversario = datetime.strptime(formatado, \"%d/%m/%Y\")\n",
    "volta_aniversario"
   ]
  },
  {
   "cell_type": "code",
   "execution_count": 54,
   "metadata": {},
   "outputs": [
    {
     "name": "stdout",
     "output_type": "stream",
     "text": [
      "2023-04-12\n",
      "2023-04-11\n"
     ]
    }
   ],
   "source": [
    "from datetime import date, timedelta\n",
    "\n",
    "hoje  = date.today()\n",
    "ontem = hoje - timedelta(days=1)\n",
    "\n",
    "print(hoje)\n",
    "print(ontem) "
   ]
  },
  {
   "cell_type": "code",
   "execution_count": 56,
   "metadata": {},
   "outputs": [
    {
     "name": "stdout",
     "output_type": "stream",
     "text": [
      "2023-01-25\n",
      "2024-01-25\n"
     ]
    }
   ],
   "source": [
    "aniversario = date(2023, 1, 25)\n",
    "proximo_aniversario = aniversario.replace(year=aniversario.year + 1)\n",
    "\n",
    "print(aniversario) \n",
    "print(proximo_aniversario) "
   ]
  },
  {
   "cell_type": "markdown",
   "metadata": {},
   "source": [
    "## Boas práticas de programação"
   ]
  },
  {
   "cell_type": "code",
   "execution_count": null,
   "metadata": {},
   "outputs": [],
   "source": [
    "def converte(c):\n",
    "    f = (c * 9/5) + 32\n",
    "    return f"
   ]
  },
  {
   "cell_type": "code",
   "execution_count": null,
   "metadata": {},
   "outputs": [],
   "source": [
    "def celsius_para_fahrenheit(celsius):\n",
    "    \"\"\"\n",
    "    Converte uma temperatura em \n",
    "    graus Celsius para Fahrenheit.\n",
    "    \"\"\"\n",
    "    fahrenheit = (celsius * 9/5) + 32\n",
    "    return fahrenheit"
   ]
  }
 ],
 "metadata": {
  "kernelspec": {
   "display_name": "Python 3",
   "language": "python",
   "name": "python3"
  },
  "language_info": {
   "codemirror_mode": {
    "name": "ipython",
    "version": 3
   },
   "file_extension": ".py",
   "mimetype": "text/x-python",
   "name": "python",
   "nbconvert_exporter": "python",
   "pygments_lexer": "ipython3",
   "version": "3.10.8"
  },
  "orig_nbformat": 4,
  "vscode": {
   "interpreter": {
    "hash": "9f8688d2bc69c748babb560adc9158621fb8aef49546882c3e4c6326402dd0cc"
   }
  }
 },
 "nbformat": 4,
 "nbformat_minor": 2
}
