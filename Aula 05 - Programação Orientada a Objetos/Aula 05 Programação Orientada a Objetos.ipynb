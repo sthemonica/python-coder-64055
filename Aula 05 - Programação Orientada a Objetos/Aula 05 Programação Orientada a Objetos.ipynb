{
 "cells": [
  {
   "cell_type": "markdown",
   "metadata": {},
   "source": [
    "# Programação Orientada a Objetos"
   ]
  },
  {
   "cell_type": "code",
   "execution_count": 31,
   "metadata": {},
   "outputs": [
    {
     "name": "stdout",
     "output_type": "stream",
     "text": [
      "Vou mimir\n"
     ]
    }
   ],
   "source": [
    "class Cachorro:\n",
    "    def __init__(self, nome, idade, raca, pelagem):\n",
    "        self.nome = nome\n",
    "        self.idade = idade\n",
    "        self.raca = raca\n",
    "        self.pelagem = pelagem\n",
    "    def latir(self):\n",
    "        print(\"Au!\")\n",
    "    \n",
    "    def dormir(self):\n",
    "      print(\"Vou mimir\")\n",
    "      \n",
    "salsicha = Cachorro(\"Meg\", 6, \"SRD\", \"Curta\")\n",
    "salsicha.dormir()"
   ]
  },
  {
   "cell_type": "code",
   "execution_count": 33,
   "metadata": {},
   "outputs": [
    {
     "data": {
      "text/plain": [
       "6"
      ]
     },
     "execution_count": 33,
     "metadata": {},
     "output_type": "execute_result"
    }
   ],
   "source": [
    "salsicha.idade"
   ]
  },
  {
   "cell_type": "code",
   "execution_count": 29,
   "metadata": {},
   "outputs": [],
   "source": [
    "scooby = Cachorro(\"Scooby-Doo\", 6, \"Dogue Alemão\", \"Curta\")"
   ]
  },
  {
   "cell_type": "code",
   "execution_count": 22,
   "metadata": {},
   "outputs": [],
   "source": [
    "pacoca = Cachorro(\"Paçoca\", 0.7, \"SRD\", \"Curta\")"
   ]
  },
  {
   "cell_type": "code",
   "execution_count": 11,
   "metadata": {},
   "outputs": [],
   "source": [
    "meg = Cachorro('Meg', 7, \"Yorkshire\", \"longa\")"
   ]
  },
  {
   "cell_type": "code",
   "execution_count": 23,
   "metadata": {},
   "outputs": [
    {
     "name": "stdout",
     "output_type": "stream",
     "text": [
      "0.7\n"
     ]
    }
   ],
   "source": [
    "print(pacoca.idade)"
   ]
  },
  {
   "cell_type": "code",
   "execution_count": 9,
   "metadata": {},
   "outputs": [
    {
     "name": "stdout",
     "output_type": "stream",
     "text": [
      "SRD\n"
     ]
    }
   ],
   "source": [
    "print(pacoca.raca)"
   ]
  },
  {
   "cell_type": "code",
   "execution_count": 10,
   "metadata": {},
   "outputs": [
    {
     "name": "stdout",
     "output_type": "stream",
     "text": [
      "Au!\n"
     ]
    }
   ],
   "source": [
    "pacoca.latir()"
   ]
  },
  {
   "cell_type": "code",
   "execution_count": 11,
   "metadata": {},
   "outputs": [],
   "source": [
    "class Pessoa:\n",
    "    def __init__(self, nome, idade):\n",
    "        self.nome = nome\n",
    "        self.idade = idade\n",
    "\n",
    "    def aniversario(self):\n",
    "        self.idade += 1"
   ]
  },
  {
   "cell_type": "code",
   "execution_count": 12,
   "metadata": {},
   "outputs": [
    {
     "data": {
      "text/plain": [
       "32"
      ]
     },
     "execution_count": 12,
     "metadata": {},
     "output_type": "execute_result"
    }
   ],
   "source": [
    "joao = Pessoa(\"Joao Vitor\", 32)\n",
    "joao.idade"
   ]
  },
  {
   "cell_type": "code",
   "execution_count": 14,
   "metadata": {},
   "outputs": [
    {
     "data": {
      "text/plain": [
       "27"
      ]
     },
     "execution_count": 14,
     "metadata": {},
     "output_type": "execute_result"
    }
   ],
   "source": [
    "joao.idade = 25\n",
    "joao.aniversario()\n",
    "joao.aniversario()\n",
    "joao.idade"
   ]
  },
  {
   "cell_type": "markdown",
   "metadata": {},
   "source": [
    "# Bibliotecas"
   ]
  },
  {
   "cell_type": "code",
   "execution_count": 37,
   "metadata": {},
   "outputs": [
    {
     "name": "stdout",
     "output_type": "stream",
     "text": [
      "Collecting numpy\n",
      "  Downloading numpy-1.26.4-cp312-cp312-win_amd64.whl.metadata (61 kB)\n",
      "     ---------------------------------------- 0.0/61.0 kB ? eta -:--:--\n",
      "     ------ --------------------------------- 10.2/61.0 kB ? eta -:--:--\n",
      "     ------------ ------------------------- 20.5/61.0 kB 162.5 kB/s eta 0:00:01\n",
      "     ------------------------- ------------ 41.0/61.0 kB 245.8 kB/s eta 0:00:01\n",
      "     -------------------------------------- 61.0/61.0 kB 323.6 kB/s eta 0:00:00\n",
      "Downloading numpy-1.26.4-cp312-cp312-win_amd64.whl (15.5 MB)\n",
      "   ---------------------------------------- 0.0/15.5 MB ? eta -:--:--\n",
      "    --------------------------------------- 0.3/15.5 MB 8.6 MB/s eta 0:00:02\n",
      "   ------ --------------------------------- 2.7/15.5 MB 33.9 MB/s eta 0:00:01\n",
      "   ----------------- ---------------------- 6.6/15.5 MB 52.9 MB/s eta 0:00:01\n",
      "   --------------------------- ------------ 10.5/15.5 MB 73.1 MB/s eta 0:00:01\n",
      "   ------------------------------------ --- 14.1/15.5 MB 81.8 MB/s eta 0:00:01\n",
      "   ---------------------------------------  15.5/15.5 MB 81.8 MB/s eta 0:00:01\n",
      "   ---------------------------------------- 15.5/15.5 MB 50.4 MB/s eta 0:00:00\n",
      "Installing collected packages: numpy\n",
      "Successfully installed numpy-1.26.4\n"
     ]
    }
   ],
   "source": [
    "!pip install numpy"
   ]
  },
  {
   "cell_type": "code",
   "execution_count": 38,
   "metadata": {},
   "outputs": [
    {
     "data": {
      "text/plain": [
       "2.0"
      ]
     },
     "execution_count": 38,
     "metadata": {},
     "output_type": "execute_result"
    }
   ],
   "source": [
    "import numpy as np\n",
    "\n",
    "np.sqrt(4)"
   ]
  },
  {
   "cell_type": "code",
   "execution_count": 17,
   "metadata": {},
   "outputs": [
    {
     "name": "stdout",
     "output_type": "stream",
     "text": [
      "200\n"
     ]
    }
   ],
   "source": [
    "import requests\n",
    "\n",
    "response = requests.get(\"https://www.google.com\")\n",
    "print(response.status_code)  # 200"
   ]
  },
  {
   "cell_type": "code",
   "execution_count": null,
   "metadata": {},
   "outputs": [],
   "source": [
    "from numpy import mean\n",
    "# ou\n",
    "from numpy import *"
   ]
  },
  {
   "cell_type": "code",
   "execution_count": 1,
   "metadata": {},
   "outputs": [
    {
     "name": "stdout",
     "output_type": "stream",
     "text": [
      "O dobro de 10 é 20\n"
     ]
    }
   ],
   "source": [
    "from utils import mostra_dobro\n",
    "mostra_dobro(10)"
   ]
  },
  {
   "cell_type": "code",
   "execution_count": null,
   "metadata": {},
   "outputs": [],
   "source": []
  }
 ],
 "metadata": {
  "kernelspec": {
   "display_name": "Python 3",
   "language": "python",
   "name": "python3"
  },
  "language_info": {
   "codemirror_mode": {
    "name": "ipython",
    "version": 3
   },
   "file_extension": ".py",
   "mimetype": "text/x-python",
   "name": "python",
   "nbconvert_exporter": "python",
   "pygments_lexer": "ipython3",
   "version": "3.12.3"
  },
  "orig_nbformat": 4,
  "vscode": {
   "interpreter": {
    "hash": "9f8688d2bc69c748babb560adc9158621fb8aef49546882c3e4c6326402dd0cc"
   }
  }
 },
 "nbformat": 4,
 "nbformat_minor": 2
}
