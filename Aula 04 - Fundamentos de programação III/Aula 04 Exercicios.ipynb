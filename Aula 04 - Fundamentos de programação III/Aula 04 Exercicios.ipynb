{
 "cells": [
  {
   "attachments": {},
   "cell_type": "markdown",
   "metadata": {},
   "source": [
    "# Fundamentos de programação III\n",
    "## Exercicios em Sala"
   ]
  },
  {
   "cell_type": "markdown",
   "metadata": {},
   "source": [
    "1. Crie uma função lambda chamada eh_multiplo_dez() que retorna True se um determinado número é múltiplo de 10 e False caso contrário."
   ]
  },
  {
   "cell_type": "code",
   "execution_count": 5,
   "metadata": {},
   "outputs": [
    {
     "data": {
      "text/plain": [
       "True"
      ]
     },
     "execution_count": 5,
     "metadata": {},
     "output_type": "execute_result"
    }
   ],
   "source": [
    "\n",
    "eh_multiplo_dez = lambda x: (x % 10) == 0\n",
    "eh_multiplo_dez(50)"
   ]
  },
  {
   "attachments": {},
   "cell_type": "markdown",
   "metadata": {},
   "source": [
    "2. Converta o programa de cálculo de fatorial da aula anterior para uma função. A função recebe como argumento o n e retorna o fatorial de n."
   ]
  },
  {
   "cell_type": "code",
   "execution_count": 2,
   "metadata": {},
   "outputs": [
    {
     "data": {
      "text/plain": [
       "120"
      ]
     },
     "execution_count": 2,
     "metadata": {},
     "output_type": "execute_result"
    }
   ],
   "source": [
    "def calc_fatorial(n):\n",
    "\n",
    "    fatorial = 1\n",
    "\n",
    "    for i in range(1, n+1):\n",
    "        fatorial *= i\n",
    "\n",
    "    return fatorial\n",
    "calc_fatorial(5)"
   ]
  },
  {
   "attachments": {},
   "cell_type": "markdown",
   "metadata": {},
   "source": [
    "3. Crie uma função primeiro_nome que recebe uma string nome completo e retorna somente o primeiro nome. Em seguida, use a função map para aplicar a função a uma lista de strings:\n",
    "nomes = ['João Carlos', 'Maria Eduarda', 'Ana Rute', 'Ana Clara']\n"
   ]
  },
  {
   "cell_type": "code",
   "execution_count": 6,
   "metadata": {},
   "outputs": [
    {
     "name": "stdout",
     "output_type": "stream",
     "text": [
      "['João', 'Maria', 'Ana', 'Ana']\n"
     ]
    }
   ],
   "source": [
    "def primeiro_nome(nome_completo):\n",
    "    nome_split = nome_completo.split()\n",
    "    return nome_split[0]\n",
    "\n",
    "nomes = ['João Carlos', 'Maria Eduarda', 'Ana Rute', 'Ana Clara']\n",
    "so_primeiro_nome = list(map(primeiro_nome, nomes))\n",
    "\n",
    "print(so_primeiro_nome) "
   ]
  },
  {
   "attachments": {},
   "cell_type": "markdown",
   "metadata": {},
   "source": [
    "4. Escreva uma função que receba uma data no formato dd/mm/aaaa e retorne o dia da semana correspondente (Monday, Tuesday, etc.)."
   ]
  },
  {
   "cell_type": "code",
   "execution_count": 11,
   "metadata": {},
   "outputs": [
    {
     "name": "stdout",
     "output_type": "stream",
     "text": [
      "Monday\n"
     ]
    }
   ],
   "source": [
    "from datetime import datetime\n",
    "\n",
    "def dia_da_semana(data):\n",
    "    # converte a string para datetime\n",
    "    data = datetime.strptime(data, '%d/%m/%Y')\n",
    "    # formata a data para obter o nome do dia da semana\n",
    "    nome_dia_da_semana = data.strftime('%A')\n",
    "\n",
    "    return nome_dia_da_semana\n",
    "\n",
    "# exemplo de uso da função\n",
    "data = '10/04/2023'\n",
    "print(dia_da_semana(data)) "
   ]
  },
  {
   "cell_type": "markdown",
   "metadata": {},
   "source": []
  }
 ],
 "metadata": {
  "kernelspec": {
   "display_name": "Python 3",
   "language": "python",
   "name": "python3"
  },
  "language_info": {
   "codemirror_mode": {
    "name": "ipython",
    "version": 3
   },
   "file_extension": ".py",
   "mimetype": "text/x-python",
   "name": "python",
   "nbconvert_exporter": "python",
   "pygments_lexer": "ipython3",
   "version": "3.10.8"
  },
  "orig_nbformat": 4
 },
 "nbformat": 4,
 "nbformat_minor": 2
}
